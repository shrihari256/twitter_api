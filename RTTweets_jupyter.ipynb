{
 "cells": [
  {
   "cell_type": "code",
   "execution_count": 1,
   "metadata": {},
   "outputs": [],
   "source": [
    "import tweepy\n",
    "import configparser\n",
    "import os\n",
    "import pandas as pd\n",
    "import time"
   ]
  },
  {
   "cell_type": "code",
   "execution_count": 10,
   "metadata": {},
   "outputs": [
    {
     "name": "stdout",
     "output_type": "stream",
     "text": [
      "successfully read config file\n"
     ]
    }
   ],
   "source": [
    "# read all credentials from config file\n",
    "config = configparser.ConfigParser()\n",
    "config.read('config.ini')\n",
    "print('successfully read config file')\n",
    "\n",
    "api_key             = config['twitter']['api_key']\n",
    "api_secret          = config['twitter']['api_secret']\n",
    "\n",
    "access_token        = config['twitter']['access_token']\n",
    "access_token_secret = config['twitter']['access_token_secret']\n",
    "\n",
    "bearer_token        = r\"AAAAAAAAAAAAAAAAAAAAADL6lAEAAAAAyjVNm%2FOa6z1s2IKm1ew%2FimRNybM%3Dr8fVGMeKRaN7lrLP7noJvYUiIO7r9uIApLxiNfwziz9Fvdvtns\""
   ]
  },
  {
   "cell_type": "code",
   "execution_count": 11,
   "metadata": {},
   "outputs": [],
   "source": [
    "# authenticaion\n",
    "auth = tweepy.OAuthHandler(api_key, api_secret)\n",
    "auth.set_access_token(access_token, access_token_secret)\n",
    "\n",
    "api = tweepy.API(auth)\n",
    "\n",
    "keywords =['2023', '#python']"
   ]
  },
  {
   "cell_type": "code",
   "execution_count": 12,
   "metadata": {},
   "outputs": [],
   "source": [
    "class Listener(tweepy.StreamingClient):\n",
    "    \n",
    "    # def __init__(self, tweet_limit = 10):\n",
    "    #     self.tweet_limit = tweet_limit\n",
    "    #     self.tweets = []\n",
    "    #     self.tweet_counter = 1\n",
    "\n",
    "    tweets = []\n",
    "    limit = 5\n",
    "    tweet_counter = 1\n",
    "\n",
    "    def on_connect(self):\n",
    "        print('connected')\n",
    "        return super().on_connect()\n",
    "    \n",
    "    def on_tweet(self, tweet):\n",
    "\n",
    "        if tweet.referenced_tweets == None:\n",
    "            print(str(self.tweet_counter) +'/' + str(self.limit) + ' tweets \\n')\n",
    "            print(tweet.text + '\\n')\n",
    "            self.tweets.append(tweet)\n",
    "            print(\"\\033c\", end=\"\")\n",
    "            self.tweet_counter += 1\n",
    "            # self.tweets.append(tweet.text)\n",
    "            if self.tweet_counter >= self.limit:\n",
    "                self.disconnect()\n",
    "                print('disconnected')\n",
    "\n",
    "                print(len(self.tweets))\n",
    "                return False\n",
    "\n",
    "        time.sleep(0.2)\n",
    "\n",
    "        return super().on_tweet(tweet)\n",
    "\n",
    "\n",
    "    def on_status(self, status):\n",
    "        self.tweets.append(status)\n",
    "\n",
    "        if self.tweet_counter >= self.limit:\n",
    "            self.disconnect()\n",
    "            print('disconnected')\n",
    "            return False"
   ]
  },
  {
   "cell_type": "code",
   "execution_count": 14,
   "metadata": {},
   "outputs": [
    {
     "name": "stdout",
     "output_type": "stream",
     "text": [
      "connected\n",
      "1/5 tweets \n",
      "\n",
      "2023 people are smuggling eggs to the US… lol\n",
      "\n",
      "\u001bc2/5 tweets \n",
      "\n",
      "https://t.co/G0SUvawhkB\n",
      "\n",
      "\u001bc3/5 tweets \n",
      "\n",
      "GlobalData Forecasts 2.7% Growth for Nigeria’s Economy in 2023 https://t.co/SnbKkLYp7W\n",
      "\n",
      "\u001bc"
     ]
    },
    {
     "name": "stderr",
     "output_type": "stream",
     "text": [
      "Stream connection closed by Twitter\n"
     ]
    },
    {
     "name": "stdout",
     "output_type": "stream",
     "text": [
      "4/5 tweets \n",
      "\n",
      "En #CoteIvoire, l’usine d’#aliments pour #volaille #Koudjis, filiale du #néerlandais @De_Heus_Voeders est opérationnelle avec une capacité de 120 000 tonnes https://t.co/2DdedE1fY5\n",
      "\n",
      "\u001bcdisconnected\n",
      "4\n"
     ]
    }
   ],
   "source": [
    "stream_tweet    = Listener(bearer_token=bearer_token)\n",
    "for term in keywords:\n",
    "    stream_tweet.add_rules(tweepy.StreamRule(term))\n",
    "\n",
    "stream_tweet.filter(tweet_fields=['referenced_tweets'])"
   ]
  },
  {
   "cell_type": "code",
   "execution_count": 15,
   "metadata": {},
   "outputs": [],
   "source": [
    "# create a dataframe\n",
    "columns = ['ID', 'Tweet']\n",
    "data = []"
   ]
  },
  {
   "cell_type": "code",
   "execution_count": 20,
   "metadata": {},
   "outputs": [
    {
     "name": "stdout",
     "output_type": "stream",
     "text": [
      "['__abstractmethods__', '__class__', '__contains__', '__delattr__', '__dir__', '__doc__', '__eq__', '__format__', '__ge__', '__getattr__', '__getattribute__', '__getitem__', '__gt__', '__hash__', '__init__', '__init_subclass__', '__iter__', '__le__', '__len__', '__lt__', '__module__', '__ne__', '__new__', '__reduce__', '__reduce_ex__', '__repr__', '__reversed__', '__setattr__', '__sizeof__', '__slots__', '__str__', '__subclasshook__', '_abc_impl', 'attachments', 'author_id', 'context_annotations', 'conversation_id', 'created_at', 'data', 'edit_controls', 'edit_history_tweet_ids', 'entities', 'geo', 'get', 'id', 'in_reply_to_user_id', 'items', 'keys', 'lang', 'non_public_metrics', 'organic_metrics', 'possibly_sensitive', 'promoted_metrics', 'public_metrics', 'referenced_tweets', 'reply_settings', 'source', 'text', 'values', 'withheld']\n",
      "['__abstractmethods__', '__class__', '__contains__', '__delattr__', '__dir__', '__doc__', '__eq__', '__format__', '__ge__', '__getattr__', '__getattribute__', '__getitem__', '__gt__', '__hash__', '__init__', '__init_subclass__', '__iter__', '__le__', '__len__', '__lt__', '__module__', '__ne__', '__new__', '__reduce__', '__reduce_ex__', '__repr__', '__reversed__', '__setattr__', '__sizeof__', '__slots__', '__str__', '__subclasshook__', '_abc_impl', 'attachments', 'author_id', 'context_annotations', 'conversation_id', 'created_at', 'data', 'edit_controls', 'edit_history_tweet_ids', 'entities', 'geo', 'get', 'id', 'in_reply_to_user_id', 'items', 'keys', 'lang', 'non_public_metrics', 'organic_metrics', 'possibly_sensitive', 'promoted_metrics', 'public_metrics', 'referenced_tweets', 'reply_settings', 'source', 'text', 'values', 'withheld']\n",
      "['__abstractmethods__', '__class__', '__contains__', '__delattr__', '__dir__', '__doc__', '__eq__', '__format__', '__ge__', '__getattr__', '__getattribute__', '__getitem__', '__gt__', '__hash__', '__init__', '__init_subclass__', '__iter__', '__le__', '__len__', '__lt__', '__module__', '__ne__', '__new__', '__reduce__', '__reduce_ex__', '__repr__', '__reversed__', '__setattr__', '__sizeof__', '__slots__', '__str__', '__subclasshook__', '_abc_impl', 'attachments', 'author_id', 'context_annotations', 'conversation_id', 'created_at', 'data', 'edit_controls', 'edit_history_tweet_ids', 'entities', 'geo', 'get', 'id', 'in_reply_to_user_id', 'items', 'keys', 'lang', 'non_public_metrics', 'organic_metrics', 'possibly_sensitive', 'promoted_metrics', 'public_metrics', 'referenced_tweets', 'reply_settings', 'source', 'text', 'values', 'withheld']\n",
      "['__abstractmethods__', '__class__', '__contains__', '__delattr__', '__dir__', '__doc__', '__eq__', '__format__', '__ge__', '__getattr__', '__getattribute__', '__getitem__', '__gt__', '__hash__', '__init__', '__init_subclass__', '__iter__', '__le__', '__len__', '__lt__', '__module__', '__ne__', '__new__', '__reduce__', '__reduce_ex__', '__repr__', '__reversed__', '__setattr__', '__sizeof__', '__slots__', '__str__', '__subclasshook__', '_abc_impl', 'attachments', 'author_id', 'context_annotations', 'conversation_id', 'created_at', 'data', 'edit_controls', 'edit_history_tweet_ids', 'entities', 'geo', 'get', 'id', 'in_reply_to_user_id', 'items', 'keys', 'lang', 'non_public_metrics', 'organic_metrics', 'possibly_sensitive', 'promoted_metrics', 'public_metrics', 'referenced_tweets', 'reply_settings', 'source', 'text', 'values', 'withheld']\n"
     ]
    }
   ],
   "source": [
    "\n",
    "for tweet in stream_tweet.tweets:\n",
    "    print(dir(tweet))\n",
    "    # print(tweet.author_id)\n",
    "    # data.append([tweet.user.screen_name, tweet.text])"
   ]
  },
  {
   "cell_type": "code",
   "execution_count": 22,
   "metadata": {},
   "outputs": [
    {
     "name": "stdout",
     "output_type": "stream",
     "text": [
      "<bound method Mapping.values of <Tweet id=1616487103356862474 text='2023 people are smuggling eggs to the US… lol'>>\n",
      "<bound method Mapping.values of <Tweet id=1616487100563750914 text='https://t.co/G0SUvawhkB'>>\n",
      "<bound method Mapping.values of <Tweet id=1616487102673190932 text='GlobalData Forecasts 2.7% Growth for Nigeria’s Economy in\\xa02023 https://t.co/SnbKkLYp7W'>>\n",
      "<bound method Mapping.values of <Tweet id=1616487103042289666 text='En #CoteIvoire, l’usine d’#aliments pour #volaille #Koudjis, filiale du #néerlandais @De_Heus_Voeders est opérationnelle avec une capacité de 120 000 tonnes https://t.co/2DdedE1fY5'>>\n"
     ]
    }
   ],
   "source": [
    "for tweet in stream_tweet.tweets:\n",
    "    print(tweet.values)"
   ]
  },
  {
   "cell_type": "code",
   "execution_count": 23,
   "metadata": {},
   "outputs": [
    {
     "name": "stdout",
     "output_type": "stream",
     "text": [
      "None\n",
      "None\n",
      "None\n",
      "None\n"
     ]
    }
   ],
   "source": [
    "for tweet in stream_tweet.tweets:\n",
    "    print(tweet.withheld)"
   ]
  },
  {
   "cell_type": "code",
   "execution_count": 24,
   "metadata": {},
   "outputs": [],
   "source": [
    "for tweet in stream_tweet.tweets:\n",
    "    \n",
    "    data.append([tweet.id, tweet.text])"
   ]
  },
  {
   "cell_type": "code",
   "execution_count": null,
   "metadata": {},
   "outputs": [],
   "source": [
    "df = pd.DataFrame(data, columns=columns)\n",
    "\n",
    "df.to_csv('live_tweets.csv', index=False)"
   ]
  }
 ],
 "metadata": {
  "kernelspec": {
   "display_name": "base",
   "language": "python",
   "name": "python3"
  },
  "language_info": {
   "codemirror_mode": {
    "name": "ipython",
    "version": 3
   },
   "file_extension": ".py",
   "mimetype": "text/x-python",
   "name": "python",
   "nbconvert_exporter": "python",
   "pygments_lexer": "ipython3",
   "version": "3.8.8"
  },
  "orig_nbformat": 4,
  "vscode": {
   "interpreter": {
    "hash": "5179d32cf6ec497baf3f8a3ef987cc77c5d2dc691fdde20a56316522f61a7323"
   }
  }
 },
 "nbformat": 4,
 "nbformat_minor": 2
}
