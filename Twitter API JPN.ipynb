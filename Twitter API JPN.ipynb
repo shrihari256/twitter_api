{
 "cells": [
  {
   "cell_type": "code",
   "execution_count": 1,
   "metadata": {},
   "outputs": [],
   "source": [
    "import tweepy\n",
    "import pandas as pd"
   ]
  },
  {
   "cell_type": "code",
   "execution_count": 2,
   "metadata": {},
   "outputs": [],
   "source": [
    "# Consumer keys and access tokens, used for OAuth\n",
    "api_key             = 'c55o9kHfIVZSZcB97sztbmSU7'\n",
    "api_secret          = \"3mKEdJszFVW5LyCv8rv1dAJZ85yUIFwg3gcKV9Zolol7HGfb6P\"\n",
    "bearer_token        = r\"AAAAAAAAAAAAAAAAAAAAADL6lAEAAAAAyjVNm%2FOa6z1s2IKm1ew%2FimRNybM%3Dr8fVGMeKRaN7lrLP7noJvYUiIO7r9uIApLxiNfwziz9Fvdvtns\"\n",
    "\n",
    "access_token        = \"1614785862113579008-RXyiWQMyJJO1VnjeQoW5qte9ejnQaT\"\n",
    "access_token_secret = \"gnSYxOZGg6VbSkumDDwfMC7xLzzbYUu3U5JjOUD2sLurG\""
   ]
  },
  {
   "cell_type": "code",
   "execution_count": 3,
   "metadata": {},
   "outputs": [],
   "source": [
    "client = tweepy.Client(api_key, api_secret, bearer_token, access_token, access_token_secret)\n",
    "\n",
    "auth = tweepy.OAuthHandler(api_key, api_secret)\n",
    "auth.set_access_token(access_token, access_token_secret)\n",
    "\n",
    "api = tweepy.API(auth)"
   ]
  },
  {
   "cell_type": "code",
   "execution_count": 4,
   "metadata": {},
   "outputs": [],
   "source": [
    "# user tweets\n",
    "user = 'veritasium'\n",
    "limit = 300\n",
    "\n",
    "# tweets = api.user_timeline(screen_name=user, count=limit, tweet_mode='extended')\n",
    "\n",
    "## Twitter api returns only a maximum of 200 tweets at once. Method do pull more:\n",
    "# tweets = tweepy.Cursor(api.user_timeline, screen_name=user, count = 200, tweet_mode='extended').items(limit)"
   ]
  },
  {
   "cell_type": "code",
   "execution_count": 5,
   "metadata": {},
   "outputs": [],
   "source": [
    "## Search for tweets\n",
    "\n",
    "keyword = '2022'\n",
    "# keyword = '#hastag'\n",
    "# keyword = '@user'\n",
    "tweets = tweepy.Cursor(api.search_tweets, q=keyword, count = 100, tweet_mode='extended').items(limit)       # max 100 tweets per search request"
   ]
  },
  {
   "cell_type": "code",
   "execution_count": 6,
   "metadata": {},
   "outputs": [
    {
     "name": "stdout",
     "output_type": "stream",
     "text": [
      "                user                                              Tweet\n",
      "0     hosihosinosora  RT @kumagayakimura: ＺＴＦ彗星  C/2022 E3 ( ZTF ) の...\n",
      "1         hyuckie_pp  RT @Dekchaikumkom: Theme งานออฟฟิต 2022 : Very...\n",
      "2         BTSsEmoBoi  RT @charts_k: \"Spring Day\" (@BTS_twt) is the f...\n",
      "3            yinyi_w  RT @punuki2: จากต้นกล้าในวันนั้น สู่ต้นไม้ที่ก...\n",
      "4    phantom_wallker  RT @122Mortalix: YA SE QUE YA ES 2023 pero cas...\n",
      "..               ...                                                ...\n",
      "295   LaetitiaDeygas  @iacovellixavier @olivierdussopt Quand parlere...\n",
      "296     j_archuletta  RT @ThePickzHub: VIP WITH ANOTHER WINNING DAY!...\n",
      "297        mhkiki526  RT @charts_k: \"Spring Day\" (@BTS_twt) is the f...\n",
      "298         xagusss_  RT @garciabassino: La cumbia de los trapos en ...\n",
      "299   manuellunasued  RT @VirgilioMayolA: El auge de @fitur_madrid m...\n",
      "\n",
      "[300 rows x 2 columns]\n"
     ]
    }
   ],
   "source": [
    "# create dataframe\n",
    "columns = ['user','Tweet']\n",
    "data = []\n",
    "for tweet in tweets:\n",
    "    data.append([tweet.user.screen_name, tweet.full_text])\n",
    "\n",
    "df = pd.DataFrame(data, columns=columns)\n",
    "\n",
    "print(df)"
   ]
  },
  {
   "cell_type": "code",
   "execution_count": 7,
   "metadata": {},
   "outputs": [
    {
     "data": {
      "text/plain": [
       "'RT @garciabassino: La cumbia de los trapos en Lusail mientras Messi tenía la Copa del Mundo en las manos. Es imposible competirle a Qatar 2…'"
      ]
     },
     "execution_count": 7,
     "metadata": {},
     "output_type": "execute_result"
    }
   ],
   "source": [
    "df.loc[298, 'Tweet']"
   ]
  },
  {
   "cell_type": "code",
   "execution_count": 8,
   "metadata": {},
   "outputs": [],
   "source": [
    "df.to_csv('tweets.csv', index=False)"
   ]
  },
  {
   "attachments": {},
   "cell_type": "markdown",
   "metadata": {},
   "source": [
    "## Real time Tweets"
   ]
  },
  {
   "cell_type": "code",
   "execution_count": 10,
   "metadata": {},
   "outputs": [],
   "source": [
    "class Listener(tweepy.Stream):\n",
    "    def on_status(self, status):\n",
    "        print(status.user.screen_name + \": \" + status.text)\n",
    "\n",
    "    def on_error(self, status_code):\n",
    "        if status_code == 420:\n",
    "            # returning False in on_data disconnects the stream\n",
    "            return False"
   ]
  },
  {
   "cell_type": "code",
   "execution_count": 11,
   "metadata": {},
   "outputs": [],
   "source": [
    "stream_tweet = Listener(api.auth, api_secret,access_token, access_token_secret)"
   ]
  },
  {
   "attachments": {},
   "cell_type": "markdown",
   "metadata": {},
   "source": [
    "### Stream by keywords"
   ]
  },
  {
   "cell_type": "code",
   "execution_count": 12,
   "metadata": {},
   "outputs": [
    {
     "name": "stderr",
     "output_type": "stream",
     "text": [
      "Stream encountered an exception\n",
      "Traceback (most recent call last):\n",
      "  File \"d:\\anaconda\\lib\\site-packages\\tweepy\\streaming.py\", line 76, in _connect\n",
      "    with self.session.request(\n",
      "  File \"d:\\anaconda\\lib\\site-packages\\requests\\sessions.py\", line 573, in request\n",
      "    prep = self.prepare_request(req)\n",
      "  File \"d:\\anaconda\\lib\\site-packages\\requests\\sessions.py\", line 484, in prepare_request\n",
      "    p.prepare(\n",
      "  File \"d:\\anaconda\\lib\\site-packages\\requests\\models.py\", line 372, in prepare\n",
      "    self.prepare_auth(auth, url)\n",
      "  File \"d:\\anaconda\\lib\\site-packages\\requests\\models.py\", line 603, in prepare_auth\n",
      "    r = auth(self)\n",
      "  File \"d:\\anaconda\\lib\\site-packages\\requests_oauthlib\\oauth1_auth.py\", line 98, in __call__\n",
      "    r.url, headers, r.body = self.client.sign(\n",
      "  File \"d:\\anaconda\\lib\\site-packages\\oauthlib\\oauth1\\rfc5849\\__init__.py\", line 351, in sign\n",
      "    ('oauth_signature', self.get_oauth_signature(request)))\n",
      "  File \"d:\\anaconda\\lib\\site-packages\\oauthlib\\oauth1\\rfc5849\\__init__.py\", line 165, in get_oauth_signature\n",
      "    uri, headers, body = self._render(request)\n",
      "  File \"d:\\anaconda\\lib\\site-packages\\oauthlib\\oauth1\\rfc5849\\__init__.py\", line 247, in _render\n",
      "    headers = parameters.prepare_headers(\n",
      "  File \"d:\\anaconda\\lib\\site-packages\\oauthlib\\oauth1\\rfc5849\\utils.py\", line 25, in wrapper\n",
      "    return target(params, *args, **kwargs)\n",
      "  File \"d:\\anaconda\\lib\\site-packages\\oauthlib\\oauth1\\rfc5849\\parameters.py\", line 53, in prepare_headers\n",
      "    escaped_value = utils.escape(value)\n",
      "  File \"d:\\anaconda\\lib\\site-packages\\oauthlib\\oauth1\\rfc5849\\utils.py\", line 49, in escape\n",
      "    raise ValueError('Only unicode objects are escapable. ' +\n",
      "ValueError: Only unicode objects are escapable. Got <tweepy.auth.OAuthHandler object at 0x0000016500412BE0> of type <class 'tweepy.auth.OAuthHandler'>.\n"
     ]
    }
   ],
   "source": [
    "keyword = ['2023','#python']\n",
    "\n",
    "stream_tweet.filter(track=keyword)"
   ]
  },
  {
   "cell_type": "code",
   "execution_count": null,
   "metadata": {},
   "outputs": [],
   "source": []
  }
 ],
 "metadata": {
  "kernelspec": {
   "display_name": "base",
   "language": "python",
   "name": "python3"
  },
  "language_info": {
   "codemirror_mode": {
    "name": "ipython",
    "version": 3
   },
   "file_extension": ".py",
   "mimetype": "text/x-python",
   "name": "python",
   "nbconvert_exporter": "python",
   "pygments_lexer": "ipython3",
   "version": "3.8.8"
  },
  "orig_nbformat": 4,
  "vscode": {
   "interpreter": {
    "hash": "5179d32cf6ec497baf3f8a3ef987cc77c5d2dc691fdde20a56316522f61a7323"
   }
  }
 },
 "nbformat": 4,
 "nbformat_minor": 2
}
